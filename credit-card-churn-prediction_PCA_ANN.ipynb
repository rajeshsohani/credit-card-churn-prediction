{
 "cells": [
  {
   "cell_type": "code",
   "execution_count": 1,
   "id": "4c1a08bf-6fd5-4ac9-a7fd-70314e1965f2",
   "metadata": {},
   "outputs": [],
   "source": [
    "import pandas as pd\n",
    "import numpy as np"
   ]
  },
  {
   "cell_type": "code",
   "execution_count": 2,
   "id": "39a1ae5e-31d1-4c41-bbb5-9d3a74f244a5",
   "metadata": {},
   "outputs": [],
   "source": [
    "df=pd.read_csv('Churn_Modelling.csv')"
   ]
  },
  {
   "cell_type": "code",
   "execution_count": 4,
   "id": "425a280d-ed56-4b2d-8969-ee9558e361cc",
   "metadata": {},
   "outputs": [
    {
     "data": {
      "text/plain": [
       "(10000, 14)"
      ]
     },
     "execution_count": 4,
     "metadata": {},
     "output_type": "execute_result"
    }
   ],
   "source": [
    "df.shape"
   ]
  },
  {
   "cell_type": "code",
   "execution_count": 10,
   "id": "bee68ffd-2aba-4588-b9f1-67b6e4a34c98",
   "metadata": {},
   "outputs": [
    {
     "data": {
      "text/plain": [
       "Index(['RowNumber', 'CustomerId', 'Surname', 'CreditScore', 'Geography',\n",
       "       'Gender', 'Age', 'Tenure', 'Balance', 'NumOfProducts', 'HasCrCard',\n",
       "       'IsActiveMember', 'EstimatedSalary', 'Exited'],\n",
       "      dtype='object')"
      ]
     },
     "execution_count": 10,
     "metadata": {},
     "output_type": "execute_result"
    }
   ],
   "source": [
    "df.columns"
   ]
  },
  {
   "cell_type": "code",
   "execution_count": null,
   "id": "b3a14e37-49a8-44b8-8541-644e55399766",
   "metadata": {},
   "outputs": [],
   "source": []
  },
  {
   "cell_type": "code",
   "execution_count": 11,
   "id": "3176c69c-62d7-4b66-b5c9-8d94e5b50b92",
   "metadata": {},
   "outputs": [],
   "source": [
    "df=df.drop(columns=['RowNumber','CustomerId','Surname'])"
   ]
  },
  {
   "cell_type": "code",
   "execution_count": 14,
   "id": "7f84e270-e501-474a-9a57-d266675730e6",
   "metadata": {},
   "outputs": [],
   "source": [
    "df = pd.get_dummies(df, columns=['Geography', 'Gender'], drop_first=True)"
   ]
  },
  {
   "cell_type": "code",
   "execution_count": 13,
   "id": "ea9c64db-1921-4a8f-b243-0bc0a5e3b2e1",
   "metadata": {},
   "outputs": [],
   "source": [
    "from sklearn.preprocessing import OneHotEncoder,OrdinalEncoder"
   ]
  },
  {
   "cell_type": "code",
   "execution_count": 15,
   "id": "03ab4e0f-d768-4ea4-b639-e7024b07654d",
   "metadata": {},
   "outputs": [],
   "source": [
    "from sklearn.decomposition import PCA\n",
    "from sklearn.preprocessing import StandardScaler\n"
   ]
  },
  {
   "cell_type": "code",
   "execution_count": 16,
   "id": "1251a9d5-034a-4903-a8c1-2ab70ddb92cf",
   "metadata": {},
   "outputs": [],
   "source": [
    "scaler=StandardScaler()"
   ]
  },
  {
   "cell_type": "code",
   "execution_count": 17,
   "id": "5dbe33ea-20e9-4c44-a06b-e18ab0b0ff9f",
   "metadata": {},
   "outputs": [],
   "source": [
    "scaled_df=scaler.fit_transform(df)"
   ]
  },
  {
   "cell_type": "code",
   "execution_count": 20,
   "id": "c6086f0b-1271-4a5c-b4a3-c634a9262453",
   "metadata": {},
   "outputs": [
    {
     "data": {
      "text/plain": [
       "numpy.ndarray"
      ]
     },
     "execution_count": 20,
     "metadata": {},
     "output_type": "execute_result"
    }
   ],
   "source": [
    "type(scaled_df)"
   ]
  },
  {
   "cell_type": "code",
   "execution_count": 22,
   "id": "1d720a77-b7a0-47d4-8db3-4b693968d11f",
   "metadata": {},
   "outputs": [],
   "source": [
    "pca = PCA(n_components=0.95)\n",
    "pca_data = pca.fit_transform(scaled_df)"
   ]
  },
  {
   "cell_type": "code",
   "execution_count": 24,
   "id": "987ceebb-e103-42c5-ad71-ad7ac15cc6da",
   "metadata": {},
   "outputs": [
    {
     "name": "stdout",
     "output_type": "stream",
     "text": [
      "Original shape: (10000, 12)\n",
      "Encoded + Scaled shape: (10000, 12)\n",
      "Reduced shape after PCA: (10000, 11)\n"
     ]
    }
   ],
   "source": [
    "print(\"Original shape:\", df.shape)\n",
    "print(\"Encoded + Scaled shape:\", scaled_df.shape)\n",
    "print(\"Reduced shape after PCA:\", pca_data.shape)"
   ]
  },
  {
   "cell_type": "code",
   "execution_count": 25,
   "id": "bc6ca280-669f-43b1-a1f4-0ad8e95fa24e",
   "metadata": {},
   "outputs": [
    {
     "data": {
      "text/plain": [
       "numpy.ndarray"
      ]
     },
     "execution_count": 25,
     "metadata": {},
     "output_type": "execute_result"
    }
   ],
   "source": [
    "type(pca_data)"
   ]
  },
  {
   "cell_type": "code",
   "execution_count": 26,
   "id": "41dc197b-0c90-43ee-add9-647658bb34b1",
   "metadata": {},
   "outputs": [
    {
     "name": "stdout",
     "output_type": "stream",
     "text": [
      "[[ 0.26658388  1.71456869 -0.34597059 ... -0.46242964 -1.2379617\n",
      "   1.77616542]\n",
      " [-0.78347493  0.47061021 -2.07998288 ... -1.04737611  0.6108353\n",
      "  -0.25541455]\n",
      " [ 0.90030387  1.98035086  2.14472813 ... -0.59483699  1.11823634\n",
      "   0.23192226]\n",
      " ...\n",
      " [ 0.08563942  1.33483313 -0.41791145 ... -1.17584271 -1.24427646\n",
      "   2.19056958]\n",
      " [ 1.75521577  0.81220552  1.23852906 ...  2.24264906  0.54955868\n",
      "   0.70485757]\n",
      " [ 0.33738416 -0.94579013 -0.00732323 ... -0.36302015 -0.67762076\n",
      "  -0.22616159]]\n"
     ]
    }
   ],
   "source": [
    "print(pca_data)"
   ]
  },
  {
   "cell_type": "code",
   "execution_count": 28,
   "id": "1398a271-0f82-4b3c-ad25-ff03c998b2ff",
   "metadata": {},
   "outputs": [
    {
     "name": "stdout",
     "output_type": "stream",
     "text": [
      "(10000, 12)\n",
      "        PC1       PC2       PC3       PC4       PC5       PC6       PC7  \\\n",
      "0  0.266584  1.714569 -0.345971  0.505321 -0.028921 -0.843609 -0.045345   \n",
      "1 -0.783475  0.470610 -2.079983  0.432722 -1.936588 -0.574909 -0.201934   \n",
      "2  0.900304  1.980351  2.144728 -0.951337  0.590253 -0.137702 -0.891276   \n",
      "3 -0.960895  0.754515  0.952241  0.449305 -2.088612 -0.918784  0.716210   \n",
      "4 -0.451679  0.070679 -1.992580  0.835894 -0.273326  0.233275  2.209922   \n",
      "\n",
      "        PC8       PC9      PC10      PC11  Exited  \n",
      "0  1.271203 -0.462430 -1.237962  1.776165       1  \n",
      "1  0.250500 -1.047376  0.610835 -0.255415       0  \n",
      "2 -0.169255 -0.594837  1.118236  0.231922       1  \n",
      "3 -0.478386  0.274287 -0.903476 -0.691789       0  \n",
      "4  1.552767 -0.429775  0.779395 -0.405557       0  \n"
     ]
    }
   ],
   "source": [
    "pca_columns = [f'PC{i+1}' for i in range(11)]\n",
    "\n",
    "# Convert to DataFrame\n",
    "pca_df = pd.DataFrame(pca_data, columns=pca_columns)\n",
    "\n",
    "# (Optional) Add target column back if you had one, e.g., 'Price'\n",
    "pca_df['Exited'] = df['Exited'].values  # Replace 'Target' with your actual column name\n",
    "\n",
    "# View the result\n",
    "print(pca_df.shape)\n",
    "print(pca_df.head())"
   ]
  },
  {
   "cell_type": "code",
   "execution_count": 29,
   "id": "55172cac-80a8-4ee8-869b-979038c50b81",
   "metadata": {},
   "outputs": [
    {
     "data": {
      "text/html": [
       "<div>\n",
       "<style scoped>\n",
       "    .dataframe tbody tr th:only-of-type {\n",
       "        vertical-align: middle;\n",
       "    }\n",
       "\n",
       "    .dataframe tbody tr th {\n",
       "        vertical-align: top;\n",
       "    }\n",
       "\n",
       "    .dataframe thead th {\n",
       "        text-align: right;\n",
       "    }\n",
       "</style>\n",
       "<table border=\"1\" class=\"dataframe\">\n",
       "  <thead>\n",
       "    <tr style=\"text-align: right;\">\n",
       "      <th></th>\n",
       "      <th>PC1</th>\n",
       "      <th>PC2</th>\n",
       "      <th>PC3</th>\n",
       "      <th>PC4</th>\n",
       "      <th>PC5</th>\n",
       "      <th>PC6</th>\n",
       "      <th>PC7</th>\n",
       "      <th>PC8</th>\n",
       "      <th>PC9</th>\n",
       "      <th>PC10</th>\n",
       "      <th>PC11</th>\n",
       "      <th>Exited</th>\n",
       "    </tr>\n",
       "  </thead>\n",
       "  <tbody>\n",
       "    <tr>\n",
       "      <th>0</th>\n",
       "      <td>0.266584</td>\n",
       "      <td>1.714569</td>\n",
       "      <td>-0.345971</td>\n",
       "      <td>0.505321</td>\n",
       "      <td>-0.028921</td>\n",
       "      <td>-0.843609</td>\n",
       "      <td>-0.045345</td>\n",
       "      <td>1.271203</td>\n",
       "      <td>-0.462430</td>\n",
       "      <td>-1.237962</td>\n",
       "      <td>1.776165</td>\n",
       "      <td>1</td>\n",
       "    </tr>\n",
       "    <tr>\n",
       "      <th>1</th>\n",
       "      <td>-0.783475</td>\n",
       "      <td>0.470610</td>\n",
       "      <td>-2.079983</td>\n",
       "      <td>0.432722</td>\n",
       "      <td>-1.936588</td>\n",
       "      <td>-0.574909</td>\n",
       "      <td>-0.201934</td>\n",
       "      <td>0.250500</td>\n",
       "      <td>-1.047376</td>\n",
       "      <td>0.610835</td>\n",
       "      <td>-0.255415</td>\n",
       "      <td>0</td>\n",
       "    </tr>\n",
       "    <tr>\n",
       "      <th>2</th>\n",
       "      <td>0.900304</td>\n",
       "      <td>1.980351</td>\n",
       "      <td>2.144728</td>\n",
       "      <td>-0.951337</td>\n",
       "      <td>0.590253</td>\n",
       "      <td>-0.137702</td>\n",
       "      <td>-0.891276</td>\n",
       "      <td>-0.169255</td>\n",
       "      <td>-0.594837</td>\n",
       "      <td>1.118236</td>\n",
       "      <td>0.231922</td>\n",
       "      <td>1</td>\n",
       "    </tr>\n",
       "    <tr>\n",
       "      <th>3</th>\n",
       "      <td>-0.960895</td>\n",
       "      <td>0.754515</td>\n",
       "      <td>0.952241</td>\n",
       "      <td>0.449305</td>\n",
       "      <td>-2.088612</td>\n",
       "      <td>-0.918784</td>\n",
       "      <td>0.716210</td>\n",
       "      <td>-0.478386</td>\n",
       "      <td>0.274287</td>\n",
       "      <td>-0.903476</td>\n",
       "      <td>-0.691789</td>\n",
       "      <td>0</td>\n",
       "    </tr>\n",
       "    <tr>\n",
       "      <th>4</th>\n",
       "      <td>-0.451679</td>\n",
       "      <td>0.070679</td>\n",
       "      <td>-1.992580</td>\n",
       "      <td>0.835894</td>\n",
       "      <td>-0.273326</td>\n",
       "      <td>0.233275</td>\n",
       "      <td>2.209922</td>\n",
       "      <td>1.552767</td>\n",
       "      <td>-0.429775</td>\n",
       "      <td>0.779395</td>\n",
       "      <td>-0.405557</td>\n",
       "      <td>0</td>\n",
       "    </tr>\n",
       "    <tr>\n",
       "      <th>...</th>\n",
       "      <td>...</td>\n",
       "      <td>...</td>\n",
       "      <td>...</td>\n",
       "      <td>...</td>\n",
       "      <td>...</td>\n",
       "      <td>...</td>\n",
       "      <td>...</td>\n",
       "      <td>...</td>\n",
       "      <td>...</td>\n",
       "      <td>...</td>\n",
       "      <td>...</td>\n",
       "      <td>...</td>\n",
       "    </tr>\n",
       "    <tr>\n",
       "      <th>9995</th>\n",
       "      <td>-1.157374</td>\n",
       "      <td>-0.120033</td>\n",
       "      <td>1.114151</td>\n",
       "      <td>0.013827</td>\n",
       "      <td>0.505610</td>\n",
       "      <td>0.337858</td>\n",
       "      <td>0.822761</td>\n",
       "      <td>0.017771</td>\n",
       "      <td>1.553189</td>\n",
       "      <td>-0.858991</td>\n",
       "      <td>-0.390856</td>\n",
       "      <td>0</td>\n",
       "    </tr>\n",
       "    <tr>\n",
       "      <th>9996</th>\n",
       "      <td>-0.465889</td>\n",
       "      <td>-1.047345</td>\n",
       "      <td>-0.378802</td>\n",
       "      <td>-0.526757</td>\n",
       "      <td>1.642457</td>\n",
       "      <td>0.454238</td>\n",
       "      <td>-1.486806</td>\n",
       "      <td>-0.358140</td>\n",
       "      <td>-0.949914</td>\n",
       "      <td>-0.914625</td>\n",
       "      <td>0.609383</td>\n",
       "      <td>0</td>\n",
       "    </tr>\n",
       "    <tr>\n",
       "      <th>9997</th>\n",
       "      <td>0.085639</td>\n",
       "      <td>1.334833</td>\n",
       "      <td>-0.417911</td>\n",
       "      <td>0.521913</td>\n",
       "      <td>-0.461684</td>\n",
       "      <td>-0.041260</td>\n",
       "      <td>1.029919</td>\n",
       "      <td>-1.413560</td>\n",
       "      <td>-1.175843</td>\n",
       "      <td>-1.244276</td>\n",
       "      <td>2.190570</td>\n",
       "      <td>1</td>\n",
       "    </tr>\n",
       "    <tr>\n",
       "      <th>9998</th>\n",
       "      <td>1.755216</td>\n",
       "      <td>0.812206</td>\n",
       "      <td>1.238529</td>\n",
       "      <td>0.258820</td>\n",
       "      <td>0.352734</td>\n",
       "      <td>0.037565</td>\n",
       "      <td>0.868003</td>\n",
       "      <td>0.106607</td>\n",
       "      <td>2.242649</td>\n",
       "      <td>0.549559</td>\n",
       "      <td>0.704858</td>\n",
       "      <td>1</td>\n",
       "    </tr>\n",
       "    <tr>\n",
       "      <th>9999</th>\n",
       "      <td>0.337384</td>\n",
       "      <td>-0.945790</td>\n",
       "      <td>-0.007323</td>\n",
       "      <td>-0.834062</td>\n",
       "      <td>-0.196912</td>\n",
       "      <td>-0.682965</td>\n",
       "      <td>2.448844</td>\n",
       "      <td>0.584319</td>\n",
       "      <td>-0.363020</td>\n",
       "      <td>-0.677621</td>\n",
       "      <td>-0.226162</td>\n",
       "      <td>0</td>\n",
       "    </tr>\n",
       "  </tbody>\n",
       "</table>\n",
       "<p>10000 rows × 12 columns</p>\n",
       "</div>"
      ],
      "text/plain": [
       "           PC1       PC2       PC3       PC4       PC5       PC6       PC7  \\\n",
       "0     0.266584  1.714569 -0.345971  0.505321 -0.028921 -0.843609 -0.045345   \n",
       "1    -0.783475  0.470610 -2.079983  0.432722 -1.936588 -0.574909 -0.201934   \n",
       "2     0.900304  1.980351  2.144728 -0.951337  0.590253 -0.137702 -0.891276   \n",
       "3    -0.960895  0.754515  0.952241  0.449305 -2.088612 -0.918784  0.716210   \n",
       "4    -0.451679  0.070679 -1.992580  0.835894 -0.273326  0.233275  2.209922   \n",
       "...        ...       ...       ...       ...       ...       ...       ...   \n",
       "9995 -1.157374 -0.120033  1.114151  0.013827  0.505610  0.337858  0.822761   \n",
       "9996 -0.465889 -1.047345 -0.378802 -0.526757  1.642457  0.454238 -1.486806   \n",
       "9997  0.085639  1.334833 -0.417911  0.521913 -0.461684 -0.041260  1.029919   \n",
       "9998  1.755216  0.812206  1.238529  0.258820  0.352734  0.037565  0.868003   \n",
       "9999  0.337384 -0.945790 -0.007323 -0.834062 -0.196912 -0.682965  2.448844   \n",
       "\n",
       "           PC8       PC9      PC10      PC11  Exited  \n",
       "0     1.271203 -0.462430 -1.237962  1.776165       1  \n",
       "1     0.250500 -1.047376  0.610835 -0.255415       0  \n",
       "2    -0.169255 -0.594837  1.118236  0.231922       1  \n",
       "3    -0.478386  0.274287 -0.903476 -0.691789       0  \n",
       "4     1.552767 -0.429775  0.779395 -0.405557       0  \n",
       "...        ...       ...       ...       ...     ...  \n",
       "9995  0.017771  1.553189 -0.858991 -0.390856       0  \n",
       "9996 -0.358140 -0.949914 -0.914625  0.609383       0  \n",
       "9997 -1.413560 -1.175843 -1.244276  2.190570       1  \n",
       "9998  0.106607  2.242649  0.549559  0.704858       1  \n",
       "9999  0.584319 -0.363020 -0.677621 -0.226162       0  \n",
       "\n",
       "[10000 rows x 12 columns]"
      ]
     },
     "execution_count": 29,
     "metadata": {},
     "output_type": "execute_result"
    }
   ],
   "source": [
    "pca_df"
   ]
  },
  {
   "cell_type": "code",
   "execution_count": 33,
   "id": "38e3eafa-24d5-4746-b492-a69be584d119",
   "metadata": {},
   "outputs": [],
   "source": [
    "# trainnin the deep learning model "
   ]
  },
  {
   "cell_type": "code",
   "execution_count": 34,
   "id": "048d03a5-4c02-49fc-960c-d1ac2d61797d",
   "metadata": {},
   "outputs": [],
   "source": [
    "# 1 train test split"
   ]
  },
  {
   "cell_type": "code",
   "execution_count": 35,
   "id": "db39f7ba-0ac1-442d-a173-09b2de97930e",
   "metadata": {},
   "outputs": [],
   "source": [
    "from sklearn.model_selection import train_test_split\n",
    "X=df.drop(columns=['Exited'])\n",
    "y=df['Exited']"
   ]
  },
  {
   "cell_type": "code",
   "execution_count": 37,
   "id": "19fb950d-3fbf-479b-a872-51ddd5904548",
   "metadata": {},
   "outputs": [],
   "source": [
    "X_train,X_test,y_train,y_test = train_test_split(X,y,test_size=0.2,random_state=42)"
   ]
  },
  {
   "cell_type": "code",
   "execution_count": 38,
   "id": "5c31c658-cbbb-4b53-8bc8-c5980dff845f",
   "metadata": {},
   "outputs": [
    {
     "data": {
      "text/plain": [
       "(8000, 11)"
      ]
     },
     "execution_count": 38,
     "metadata": {},
     "output_type": "execute_result"
    }
   ],
   "source": [
    "X_train.shape"
   ]
  },
  {
   "cell_type": "code",
   "execution_count": 39,
   "id": "b64b66cc-c5a3-4306-aeb2-fcd0b9014c8c",
   "metadata": {},
   "outputs": [
    {
     "data": {
      "text/plain": [
       "(8000,)"
      ]
     },
     "execution_count": 39,
     "metadata": {},
     "output_type": "execute_result"
    }
   ],
   "source": [
    "y_train.shape"
   ]
  },
  {
   "cell_type": "code",
   "execution_count": 40,
   "id": "173f4101-69d9-42c7-acc8-d2fdd361fef2",
   "metadata": {},
   "outputs": [],
   "source": [
    "import tensorflow as tf"
   ]
  },
  {
   "cell_type": "code",
   "execution_count": 41,
   "id": "23824e26-0ab8-437b-a21e-bb94c2f458d6",
   "metadata": {},
   "outputs": [],
   "source": [
    "from tensorflow.keras.models import Sequential\n",
    "from tensorflow.keras.layers import Dense"
   ]
  },
  {
   "cell_type": "code",
   "execution_count": 43,
   "id": "d84494ea-73f8-44f9-8881-e06b100a2290",
   "metadata": {},
   "outputs": [],
   "source": [
    "# building the model \n",
    "mdl=Sequential()\n",
    "mdl.add(Dense(16,input_dim=X_train.shape[1],activation='relu'))\n",
    "mdl.add(Dense(8,activation='relu'))\n",
    "mdl.add(Dense(1,activation='sigmoid'))"
   ]
  },
  {
   "cell_type": "code",
   "execution_count": 44,
   "id": "d2890d30-0a46-488e-8d3b-97ca1dec5b52",
   "metadata": {},
   "outputs": [],
   "source": [
    "mdl.compile(optimizer='adam',loss='binary_crossentropy',metrics=['accuracy'])"
   ]
  },
  {
   "cell_type": "code",
   "execution_count": 46,
   "id": "bac1fae2-4742-43d1-bad1-b1fafee0b839",
   "metadata": {},
   "outputs": [],
   "source": [
    "X_train = np.array(X_train).astype('float32')\n",
    "y_train = np.array(y_train).astype('float32')\n",
    "X_test = np.array(X_test).astype('float32')\n",
    "y_test = np.array(y_test).astype('float32')\n",
    "# this is for the error Failed to convert a NumPy array to a Tensor (Unsupported object type int)."
   ]
  },
  {
   "cell_type": "code",
   "execution_count": 47,
   "id": "7978f4b1-2f6c-4d65-9bbf-8c0d06eef188",
   "metadata": {},
   "outputs": [
    {
     "name": "stdout",
     "output_type": "stream",
     "text": [
      "Epoch 1/50\n",
      "400/400 [==============================] - 2s 3ms/step - loss: 279.3163 - accuracy: 0.7000 - val_loss: 40.2372 - val_accuracy: 0.5325\n",
      "Epoch 2/50\n",
      "400/400 [==============================] - 1s 2ms/step - loss: 53.4568 - accuracy: 0.6911 - val_loss: 31.6384 - val_accuracy: 0.6160\n",
      "Epoch 3/50\n",
      "400/400 [==============================] - 1s 2ms/step - loss: 41.8430 - accuracy: 0.6905 - val_loss: 63.1118 - val_accuracy: 0.5685\n",
      "Epoch 4/50\n",
      "400/400 [==============================] - 1s 2ms/step - loss: 35.4283 - accuracy: 0.6852 - val_loss: 24.3330 - val_accuracy: 0.5060\n",
      "Epoch 5/50\n",
      "400/400 [==============================] - 1s 2ms/step - loss: 42.9681 - accuracy: 0.6801 - val_loss: 46.6626 - val_accuracy: 0.3360\n",
      "Epoch 6/50\n",
      "400/400 [==============================] - 1s 2ms/step - loss: 38.2397 - accuracy: 0.6810 - val_loss: 48.2402 - val_accuracy: 0.7970\n",
      "Epoch 7/50\n",
      "400/400 [==============================] - 1s 2ms/step - loss: 40.0510 - accuracy: 0.6768 - val_loss: 33.5806 - val_accuracy: 0.8005\n",
      "Epoch 8/50\n",
      "400/400 [==============================] - 1s 2ms/step - loss: 32.1459 - accuracy: 0.6944 - val_loss: 21.3391 - val_accuracy: 0.7910\n",
      "Epoch 9/50\n",
      "400/400 [==============================] - 1s 2ms/step - loss: 34.2008 - accuracy: 0.6812 - val_loss: 47.2708 - val_accuracy: 0.2935\n",
      "Epoch 10/50\n",
      "400/400 [==============================] - 1s 2ms/step - loss: 31.8880 - accuracy: 0.6854 - val_loss: 9.2395 - val_accuracy: 0.6855\n",
      "Epoch 11/50\n",
      "400/400 [==============================] - 1s 3ms/step - loss: 25.6156 - accuracy: 0.6926 - val_loss: 61.7157 - val_accuracy: 0.8035\n",
      "Epoch 12/50\n",
      "400/400 [==============================] - 1s 2ms/step - loss: 32.0528 - accuracy: 0.6781 - val_loss: 16.8432 - val_accuracy: 0.7720\n",
      "Epoch 13/50\n",
      "400/400 [==============================] - 1s 2ms/step - loss: 29.5476 - accuracy: 0.6860 - val_loss: 41.4554 - val_accuracy: 0.4425\n",
      "Epoch 14/50\n",
      "400/400 [==============================] - 1s 2ms/step - loss: 24.3977 - accuracy: 0.6811 - val_loss: 45.3371 - val_accuracy: 0.6145\n",
      "Epoch 15/50\n",
      "400/400 [==============================] - 1s 2ms/step - loss: 24.7737 - accuracy: 0.6837 - val_loss: 23.2606 - val_accuracy: 0.6985\n",
      "Epoch 16/50\n",
      "400/400 [==============================] - 1s 2ms/step - loss: 26.7868 - accuracy: 0.6884 - val_loss: 47.7881 - val_accuracy: 0.4040\n",
      "Epoch 17/50\n",
      "400/400 [==============================] - 1s 2ms/step - loss: 29.4348 - accuracy: 0.6754 - val_loss: 15.9627 - val_accuracy: 0.7780\n",
      "Epoch 18/50\n",
      "400/400 [==============================] - 1s 2ms/step - loss: 21.4907 - accuracy: 0.6905 - val_loss: 25.3017 - val_accuracy: 0.5675\n",
      "Epoch 19/50\n",
      "400/400 [==============================] - 1s 2ms/step - loss: 23.1276 - accuracy: 0.6823 - val_loss: 29.0955 - val_accuracy: 0.8040\n",
      "Epoch 20/50\n",
      "400/400 [==============================] - 1s 2ms/step - loss: 24.5397 - accuracy: 0.6799 - val_loss: 19.0075 - val_accuracy: 0.8040\n",
      "Epoch 21/50\n",
      "400/400 [==============================] - 1s 2ms/step - loss: 25.9351 - accuracy: 0.6834 - val_loss: 32.2654 - val_accuracy: 0.8020\n",
      "Epoch 22/50\n",
      "400/400 [==============================] - 1s 2ms/step - loss: 20.4634 - accuracy: 0.6842 - val_loss: 38.5805 - val_accuracy: 0.8040\n",
      "Epoch 23/50\n",
      "400/400 [==============================] - 1s 2ms/step - loss: 24.6047 - accuracy: 0.6858 - val_loss: 23.0342 - val_accuracy: 0.3480\n",
      "Epoch 24/50\n",
      "400/400 [==============================] - 1s 2ms/step - loss: 22.4305 - accuracy: 0.6896 - val_loss: 20.7539 - val_accuracy: 0.8025\n",
      "Epoch 25/50\n",
      "400/400 [==============================] - 1s 2ms/step - loss: 20.6278 - accuracy: 0.6869 - val_loss: 9.1593 - val_accuracy: 0.6840\n",
      "Epoch 26/50\n",
      "400/400 [==============================] - 1s 2ms/step - loss: 21.5202 - accuracy: 0.6829 - val_loss: 29.2507 - val_accuracy: 0.8030\n",
      "Epoch 27/50\n",
      "400/400 [==============================] - 1s 2ms/step - loss: 27.9027 - accuracy: 0.6860 - val_loss: 8.7353 - val_accuracy: 0.7615\n",
      "Epoch 28/50\n",
      "400/400 [==============================] - 1s 2ms/step - loss: 20.0167 - accuracy: 0.6885 - val_loss: 9.6708 - val_accuracy: 0.6610\n",
      "Epoch 29/50\n",
      "400/400 [==============================] - 1s 2ms/step - loss: 19.4431 - accuracy: 0.6902 - val_loss: 14.2406 - val_accuracy: 0.7465\n",
      "Epoch 30/50\n",
      "400/400 [==============================] - 1s 2ms/step - loss: 21.1152 - accuracy: 0.6926 - val_loss: 16.9699 - val_accuracy: 0.7025\n",
      "Epoch 31/50\n",
      "400/400 [==============================] - 1s 2ms/step - loss: 17.3873 - accuracy: 0.6915 - val_loss: 21.3245 - val_accuracy: 0.7940\n",
      "Epoch 32/50\n",
      "400/400 [==============================] - 1s 2ms/step - loss: 17.7417 - accuracy: 0.6866 - val_loss: 7.0040 - val_accuracy: 0.7620\n",
      "Epoch 33/50\n",
      "400/400 [==============================] - 1s 2ms/step - loss: 19.0551 - accuracy: 0.6914 - val_loss: 10.6714 - val_accuracy: 0.8025\n",
      "Epoch 34/50\n",
      "400/400 [==============================] - 1s 2ms/step - loss: 22.5379 - accuracy: 0.6885 - val_loss: 13.8000 - val_accuracy: 0.7560\n",
      "Epoch 35/50\n",
      "400/400 [==============================] - 1s 2ms/step - loss: 17.0805 - accuracy: 0.6966 - val_loss: 13.4726 - val_accuracy: 0.8000\n",
      "Epoch 36/50\n",
      "400/400 [==============================] - 1s 3ms/step - loss: 18.3348 - accuracy: 0.6876 - val_loss: 13.7597 - val_accuracy: 0.8025\n",
      "Epoch 37/50\n",
      "400/400 [==============================] - 1s 2ms/step - loss: 14.3257 - accuracy: 0.6899 - val_loss: 7.8665 - val_accuracy: 0.5455\n",
      "Epoch 38/50\n",
      "400/400 [==============================] - 1s 2ms/step - loss: 19.0365 - accuracy: 0.6877 - val_loss: 4.5160 - val_accuracy: 0.7730\n",
      "Epoch 39/50\n",
      "400/400 [==============================] - 1s 2ms/step - loss: 19.5189 - accuracy: 0.6969 - val_loss: 24.0834 - val_accuracy: 0.4035\n",
      "Epoch 40/50\n",
      "400/400 [==============================] - 1s 2ms/step - loss: 20.2579 - accuracy: 0.6826 - val_loss: 6.9547 - val_accuracy: 0.5180\n",
      "Epoch 41/50\n",
      "400/400 [==============================] - 1s 2ms/step - loss: 16.5065 - accuracy: 0.6967 - val_loss: 7.7139 - val_accuracy: 0.5750\n",
      "Epoch 42/50\n",
      "400/400 [==============================] - 1s 2ms/step - loss: 13.2988 - accuracy: 0.6894 - val_loss: 4.9728 - val_accuracy: 0.7420\n",
      "Epoch 43/50\n",
      "400/400 [==============================] - 1s 2ms/step - loss: 13.9685 - accuracy: 0.6862 - val_loss: 10.2459 - val_accuracy: 0.6510\n",
      "Epoch 44/50\n",
      "400/400 [==============================] - 1s 2ms/step - loss: 15.0917 - accuracy: 0.6900 - val_loss: 8.9948 - val_accuracy: 0.6390\n",
      "Epoch 45/50\n",
      "400/400 [==============================] - 1s 2ms/step - loss: 13.9526 - accuracy: 0.6938 - val_loss: 21.0782 - val_accuracy: 0.7980\n",
      "Epoch 46/50\n",
      "400/400 [==============================] - 1s 2ms/step - loss: 13.9889 - accuracy: 0.6959 - val_loss: 19.3726 - val_accuracy: 0.8025\n",
      "Epoch 47/50\n",
      "400/400 [==============================] - 1s 2ms/step - loss: 12.0960 - accuracy: 0.6965 - val_loss: 18.1252 - val_accuracy: 0.3985\n",
      "Epoch 48/50\n",
      "400/400 [==============================] - 1s 2ms/step - loss: 14.3425 - accuracy: 0.6939 - val_loss: 11.9941 - val_accuracy: 0.8055\n",
      "Epoch 49/50\n",
      "400/400 [==============================] - 1s 2ms/step - loss: 12.3677 - accuracy: 0.6909 - val_loss: 16.8569 - val_accuracy: 0.6525\n",
      "Epoch 50/50\n",
      "400/400 [==============================] - 1s 2ms/step - loss: 14.8992 - accuracy: 0.6885 - val_loss: 12.2330 - val_accuracy: 0.6680\n"
     ]
    }
   ],
   "source": [
    "his=mdl.fit(X_train,y_train,epochs=50,batch_size=20,validation_data=(X_test,y_test))"
   ]
  },
  {
   "cell_type": "code",
   "execution_count": 48,
   "id": "d95f2ed1-df78-4ba3-893e-028cd700c746",
   "metadata": {},
   "outputs": [],
   "source": [
    "# anothher architecture "
   ]
  },
  {
   "cell_type": "code",
   "execution_count": 49,
   "id": "45f87026-e6a9-4186-bbb3-0cec287ddf10",
   "metadata": {},
   "outputs": [],
   "source": [
    "# building the model \n",
    "mdl2=Sequential()\n",
    "mdl2.add(Dense(16,input_dim=X_train.shape[1],activation='relu'))\n",
    "mdl2.add(Dense(16,activation='relu'))\n",
    "mdl2.add(Dense(16,activation='relu'))\n",
    "mdl2.add(Dense(1,activation='sigmoid'))"
   ]
  },
  {
   "cell_type": "code",
   "execution_count": 50,
   "id": "9f676b91-8e1c-42a6-8b53-3b933032d2ce",
   "metadata": {},
   "outputs": [],
   "source": [
    "mdl2.compile(optimizer='adam',loss='binary_crossentropy',metrics=['accuracy'])"
   ]
  },
  {
   "cell_type": "code",
   "execution_count": 51,
   "id": "8d44d8cb-128a-4029-8e31-105ea8551a83",
   "metadata": {},
   "outputs": [
    {
     "name": "stdout",
     "output_type": "stream",
     "text": [
      "Epoch 1/50\n",
      "400/400 [==============================] - 1s 3ms/step - loss: 13.2285 - accuracy: 0.6886 - val_loss: 25.5574 - val_accuracy: 0.5715\n",
      "Epoch 2/50\n",
      "400/400 [==============================] - 1s 2ms/step - loss: 13.2806 - accuracy: 0.6876 - val_loss: 11.1058 - val_accuracy: 0.6115\n",
      "Epoch 3/50\n",
      "400/400 [==============================] - 1s 2ms/step - loss: 11.8873 - accuracy: 0.6911 - val_loss: 8.3843 - val_accuracy: 0.7835\n",
      "Epoch 4/50\n",
      "400/400 [==============================] - 1s 2ms/step - loss: 13.5056 - accuracy: 0.6862 - val_loss: 4.0413 - val_accuracy: 0.6980\n",
      "Epoch 5/50\n",
      "400/400 [==============================] - 1s 2ms/step - loss: 10.8820 - accuracy: 0.6919 - val_loss: 24.2430 - val_accuracy: 0.8025\n",
      "Epoch 6/50\n",
      "400/400 [==============================] - 1s 3ms/step - loss: 9.0496 - accuracy: 0.6970 - val_loss: 10.8323 - val_accuracy: 0.7945\n",
      "Epoch 7/50\n",
      "400/400 [==============================] - 1s 2ms/step - loss: 12.0735 - accuracy: 0.6944 - val_loss: 12.5912 - val_accuracy: 0.5170\n",
      "Epoch 8/50\n",
      "400/400 [==============================] - 1s 2ms/step - loss: 13.2961 - accuracy: 0.6916 - val_loss: 6.1904 - val_accuracy: 0.7610\n",
      "Epoch 9/50\n",
      "400/400 [==============================] - 1s 2ms/step - loss: 10.0640 - accuracy: 0.6941 - val_loss: 15.4068 - val_accuracy: 0.4465\n",
      "Epoch 10/50\n",
      "400/400 [==============================] - 1s 2ms/step - loss: 10.3755 - accuracy: 0.6921 - val_loss: 6.1375 - val_accuracy: 0.8025\n",
      "Epoch 11/50\n",
      "400/400 [==============================] - 1s 2ms/step - loss: 8.9260 - accuracy: 0.6985 - val_loss: 11.1755 - val_accuracy: 0.4200\n",
      "Epoch 12/50\n",
      "400/400 [==============================] - 1s 2ms/step - loss: 11.8523 - accuracy: 0.6915 - val_loss: 3.8602 - val_accuracy: 0.8010\n",
      "Epoch 13/50\n",
      "400/400 [==============================] - 1s 2ms/step - loss: 11.2589 - accuracy: 0.6989 - val_loss: 15.6673 - val_accuracy: 0.8030\n",
      "Epoch 14/50\n",
      "400/400 [==============================] - 1s 2ms/step - loss: 10.2985 - accuracy: 0.6973 - val_loss: 14.0976 - val_accuracy: 0.8020\n",
      "Epoch 15/50\n",
      "400/400 [==============================] - 1s 2ms/step - loss: 9.8049 - accuracy: 0.6938 - val_loss: 9.0548 - val_accuracy: 0.4485\n",
      "Epoch 16/50\n",
      "400/400 [==============================] - 1s 2ms/step - loss: 10.9511 - accuracy: 0.6945 - val_loss: 11.4412 - val_accuracy: 0.8025\n",
      "Epoch 17/50\n",
      "400/400 [==============================] - 1s 2ms/step - loss: 10.6390 - accuracy: 0.6911 - val_loss: 3.1048 - val_accuracy: 0.7740\n",
      "Epoch 18/50\n",
      "400/400 [==============================] - 1s 2ms/step - loss: 7.6307 - accuracy: 0.6967 - val_loss: 13.1831 - val_accuracy: 0.7485\n",
      "Epoch 19/50\n",
      "400/400 [==============================] - 1s 2ms/step - loss: 8.4242 - accuracy: 0.6964 - val_loss: 9.9573 - val_accuracy: 0.8030\n",
      "Epoch 20/50\n",
      "400/400 [==============================] - 1s 2ms/step - loss: 7.7210 - accuracy: 0.6885 - val_loss: 5.5307 - val_accuracy: 0.8055\n",
      "Epoch 21/50\n",
      "400/400 [==============================] - 1s 2ms/step - loss: 8.2864 - accuracy: 0.6951 - val_loss: 8.0200 - val_accuracy: 0.8020\n",
      "Epoch 22/50\n",
      "400/400 [==============================] - 1s 2ms/step - loss: 8.8534 - accuracy: 0.6906 - val_loss: 10.4500 - val_accuracy: 0.8015\n",
      "Epoch 23/50\n",
      "400/400 [==============================] - 1s 2ms/step - loss: 8.9249 - accuracy: 0.6976 - val_loss: 6.6282 - val_accuracy: 0.8035\n",
      "Epoch 24/50\n",
      "400/400 [==============================] - 1s 2ms/step - loss: 6.3075 - accuracy: 0.7007 - val_loss: 11.3386 - val_accuracy: 0.8020\n",
      "Epoch 25/50\n",
      "400/400 [==============================] - 1s 2ms/step - loss: 8.3510 - accuracy: 0.6979 - val_loss: 7.3383 - val_accuracy: 0.8020\n",
      "Epoch 26/50\n",
      "400/400 [==============================] - 1s 2ms/step - loss: 5.9468 - accuracy: 0.6996 - val_loss: 4.4238 - val_accuracy: 0.7895\n",
      "Epoch 27/50\n",
      "400/400 [==============================] - 1s 2ms/step - loss: 10.2356 - accuracy: 0.6900 - val_loss: 4.2526 - val_accuracy: 0.7915\n",
      "Epoch 28/50\n",
      "400/400 [==============================] - 1s 2ms/step - loss: 5.6802 - accuracy: 0.6977 - val_loss: 1.7568 - val_accuracy: 0.7795\n",
      "Epoch 29/50\n",
      "400/400 [==============================] - 1s 2ms/step - loss: 6.5717 - accuracy: 0.6908 - val_loss: 2.2228 - val_accuracy: 0.7055\n",
      "Epoch 30/50\n",
      "400/400 [==============================] - 1s 2ms/step - loss: 8.0267 - accuracy: 0.6921 - val_loss: 16.4756 - val_accuracy: 0.8030\n",
      "Epoch 31/50\n",
      "400/400 [==============================] - 1s 2ms/step - loss: 6.4797 - accuracy: 0.6956 - val_loss: 15.0389 - val_accuracy: 0.7500\n",
      "Epoch 32/50\n",
      "400/400 [==============================] - 1s 3ms/step - loss: 5.2054 - accuracy: 0.6954 - val_loss: 4.7482 - val_accuracy: 0.7880\n",
      "Epoch 33/50\n",
      "400/400 [==============================] - 1s 3ms/step - loss: 4.6947 - accuracy: 0.7051 - val_loss: 1.7893 - val_accuracy: 0.7295\n",
      "Epoch 34/50\n",
      "400/400 [==============================] - 1s 2ms/step - loss: 5.6004 - accuracy: 0.7006 - val_loss: 1.7209 - val_accuracy: 0.7380\n",
      "Epoch 35/50\n",
      "400/400 [==============================] - 1s 2ms/step - loss: 5.4191 - accuracy: 0.6938 - val_loss: 2.2303 - val_accuracy: 0.7925\n",
      "Epoch 36/50\n",
      "400/400 [==============================] - 1s 2ms/step - loss: 4.1887 - accuracy: 0.7028 - val_loss: 3.6709 - val_accuracy: 0.7970\n",
      "Epoch 37/50\n",
      "400/400 [==============================] - 1s 2ms/step - loss: 4.5394 - accuracy: 0.6930 - val_loss: 3.5842 - val_accuracy: 0.8015\n",
      "Epoch 38/50\n",
      "400/400 [==============================] - 1s 2ms/step - loss: 4.1297 - accuracy: 0.7020 - val_loss: 3.5885 - val_accuracy: 0.6200\n",
      "Epoch 39/50\n",
      "400/400 [==============================] - 1s 2ms/step - loss: 4.1139 - accuracy: 0.6999 - val_loss: 1.9823 - val_accuracy: 0.6020\n",
      "Epoch 40/50\n",
      "400/400 [==============================] - 1s 2ms/step - loss: 3.6115 - accuracy: 0.7028 - val_loss: 3.6354 - val_accuracy: 0.7910\n",
      "Epoch 41/50\n",
      "400/400 [==============================] - 1s 2ms/step - loss: 3.5554 - accuracy: 0.7009 - val_loss: 4.3985 - val_accuracy: 0.7520\n",
      "Epoch 42/50\n",
      "400/400 [==============================] - 1s 2ms/step - loss: 3.9612 - accuracy: 0.6998 - val_loss: 2.6629 - val_accuracy: 0.8005\n",
      "Epoch 43/50\n",
      "400/400 [==============================] - 1s 2ms/step - loss: 3.3650 - accuracy: 0.7046 - val_loss: 4.0712 - val_accuracy: 0.3670\n",
      "Epoch 44/50\n",
      "400/400 [==============================] - 1s 2ms/step - loss: 3.0799 - accuracy: 0.7025 - val_loss: 1.5107 - val_accuracy: 0.6735\n",
      "Epoch 45/50\n",
      "400/400 [==============================] - 1s 2ms/step - loss: 3.0237 - accuracy: 0.7060 - val_loss: 2.0111 - val_accuracy: 0.8025\n",
      "Epoch 46/50\n",
      "400/400 [==============================] - 1s 2ms/step - loss: 2.3474 - accuracy: 0.7056 - val_loss: 0.9260 - val_accuracy: 0.7905\n",
      "Epoch 47/50\n",
      "400/400 [==============================] - 1s 2ms/step - loss: 2.5952 - accuracy: 0.7084 - val_loss: 2.6200 - val_accuracy: 0.7725\n",
      "Epoch 48/50\n",
      "400/400 [==============================] - 1s 2ms/step - loss: 2.0997 - accuracy: 0.7100 - val_loss: 2.6684 - val_accuracy: 0.8025\n",
      "Epoch 49/50\n",
      "400/400 [==============================] - 1s 2ms/step - loss: 2.2921 - accuracy: 0.7066 - val_loss: 0.8780 - val_accuracy: 0.7780\n",
      "Epoch 50/50\n",
      "400/400 [==============================] - 1s 2ms/step - loss: 2.4595 - accuracy: 0.7039 - val_loss: 3.3643 - val_accuracy: 0.8015\n"
     ]
    }
   ],
   "source": [
    "his2=mdl.fit(X_train,y_train,epochs=50,batch_size=20,validation_data=(X_test,y_test))"
   ]
  },
  {
   "cell_type": "code",
   "execution_count": 52,
   "id": "19ee093b-da20-4d30-98fc-730ae413fa22",
   "metadata": {},
   "outputs": [],
   "source": [
    "# so after changing the models arcitecture the performance is incresesd"
   ]
  },
  {
   "cell_type": "code",
   "execution_count": null,
   "id": "c9918726-f13b-4099-bda3-e25d43d57c2f",
   "metadata": {},
   "outputs": [],
   "source": []
  }
 ],
 "metadata": {
  "kernelspec": {
   "display_name": "Python 3 (ipykernel)",
   "language": "python",
   "name": "python3"
  },
  "language_info": {
   "codemirror_mode": {
    "name": "ipython",
    "version": 3
   },
   "file_extension": ".py",
   "mimetype": "text/x-python",
   "name": "python",
   "nbconvert_exporter": "python",
   "pygments_lexer": "ipython3",
   "version": "3.11.2"
  }
 },
 "nbformat": 4,
 "nbformat_minor": 5
}
